{
 "cells": [
  {
   "cell_type": "markdown",
   "metadata": {},
   "source": [
    "# Variables :"
   ]
  },
  {
   "cell_type": "code",
   "execution_count": 1,
   "metadata": {},
   "outputs": [
    {
     "name": "stdout",
     "output_type": "stream",
     "text": [
      "Saqib Nisar\n"
     ]
    }
   ],
   "source": [
    "a = 2\n",
    "b = 5 \n",
    "c = a+b;\n",
    "d = \"Saqib Nisar\"\n",
    "print(d)"
   ]
  },
  {
   "cell_type": "markdown",
   "metadata": {},
   "source": [
    "# Taking Input from User:"
   ]
  },
  {
   "cell_type": "code",
   "execution_count": 1,
   "metadata": {},
   "outputs": [
    {
     "name": "stdout",
     "output_type": "stream",
     "text": [
      "Please enter your First NameSheikh M Muneer\n",
      "Please enter your Last NameSheikh M Siddique\n",
      "Sheikh M Muneer Sheikh M Siddique\n",
      "Sheikh M Muneer  Sheikh M Siddique\n"
     ]
    }
   ],
   "source": [
    "e = input(\"Please enter your First Name\")\n",
    "f = input(\"Please enter your Last Name\")\n",
    "print(e + \" \" + f)\n",
    "print(e , \"\" , f)"
   ]
  },
  {
   "cell_type": "markdown",
   "metadata": {},
   "source": [
    "#  Data Type Conversion :"
   ]
  },
  {
   "cell_type": "code",
   "execution_count": 6,
   "metadata": {},
   "outputs": [
    {
     "name": "stdout",
     "output_type": "stream",
     "text": [
      "Please enter your 1st Number : 13\n",
      "Please enter your 2nd  Number : 7\n",
      "Total Sum is  20\n",
      "Total Sum is 20\n"
     ]
    }
   ],
   "source": [
    "a = input(\"Please enter your 1st Number : \")\n",
    "b = input(\"Please enter your 2nd  Number : \")\n",
    "c = int(a) + int(b)\n",
    "print(\"Total Sum is \" , c)\n",
    "print(\"Total Sum is \" + str(c))"
   ]
  },
  {
   "cell_type": "markdown",
   "metadata": {},
   "source": [
    "# Calculator :\n"
   ]
  },
  {
   "cell_type": "code",
   "execution_count": 6,
   "metadata": {},
   "outputs": [
    {
     "name": "stdout",
     "output_type": "stream",
     "text": [
      "Plese enter First Number 12\n",
      "Plese enter Second Number 8\n",
      "Plese enter an Operator +\n",
      "The result is :  20.0\n",
      "The result is : 20.0\n"
     ]
    }
   ],
   "source": [
    "a = input(\"Plese enter First Number \")\n",
    "b = input(\"Plese enter Second Number \")    \n",
    "a = float(a)\n",
    "b = float(b)\n",
    "c = \"\"\n",
    "x =  input(\"Plese enter an Operator \")\n",
    "if x == \"+\" :\n",
    "    c = a+b\n",
    "elif x== \"-\" :\n",
    "    c = a-b\n",
    "elif x== \"*\" :\n",
    "    c = a*b\n",
    "elif x== \"/\" :\n",
    "    c = a/b\n",
    "elif x== \"%\" :\n",
    "    c = a%b\n",
    "else : \n",
    "    c = \"you gave a wrong operator\"          \n",
    "print(\"The result is : \", c)\n",
    "print(\"The result is : \" + str(c))"
   ]
  },
  {
   "cell_type": "markdown",
   "metadata": {},
   "source": [
    "# Dictionary :"
   ]
  },
  {
   "cell_type": "code",
   "execution_count": 31,
   "metadata": {},
   "outputs": [
    {
     "name": "stdout",
     "output_type": "stream",
     "text": [
      "{'id': 1, 'name': 'muneer', 'grade': 'A'}\n",
      "ID is : 1\n",
      "Name is  :muneer\n",
      "Grade is :A\n",
      "\n",
      "\n",
      "How many records you want to store : 3\n",
      "Name :Haseeb\n",
      "grade :B\n",
      "Name :Fahad\n",
      "grade :C\n",
      "Name :Sadiq\n",
      "grade :D\n",
      "{'id': 0, 'name': 'Haseeb', 'grade': 'B'}\n",
      "{'id': 1, 'name': 'Fahad', 'grade': 'C'}\n",
      "{'id': 2, 'name': 'Sadiq', 'grade': 'D'}\n"
     ]
    }
   ],
   "source": [
    "# We use curly brackets to denote dictionary\n",
    "a = {\"id\" : 1, \"name\" : \"muneer\" , \"grade\" : \"A\"}\n",
    "print(a)\n",
    "print(\"ID is : \" + str(a[\"id\"]))\n",
    "print(\"Name is  :\" + a[\"name\"])\n",
    "print(\"Grade is :\" + a[\"grade\"])\n",
    "\n",
    "print(\"\\n\")\n",
    "# New Dictionary from User Input\n",
    "l = []   # This [] denote list\n",
    "n = input(\"How many records you want to store : \")\n",
    "n = int(n)\n",
    "for i in range(0,n):   \n",
    "    a = {'id': 1, 'name': 'Munir', 'grade': 'A'}\n",
    "    a[\"id\"] = i\n",
    "    a[\"name\"] = input(\"Name :\")\n",
    "    a[\"grade\"] = input(\"grade :\")\n",
    "    l.append(a)\n",
    "\n",
    "x = l[0]\n",
    "print(x)\n",
    "y = l[1]\n",
    "print(y)\n",
    "z = l[2]\n",
    "print(z)"
   ]
  },
  {
   "cell_type": "markdown",
   "metadata": {},
   "source": [
    "# Loops :"
   ]
  },
  {
   "cell_type": "markdown",
   "metadata": {},
   "source": [
    "# While Loop :"
   ]
  },
  {
   "cell_type": "code",
   "execution_count": 2,
   "metadata": {},
   "outputs": [
    {
     "name": "stdout",
     "output_type": "stream",
     "text": [
      "5\n",
      "4\n",
      "3\n",
      "2\n",
      "1\n",
      "So we came out of loop\n"
     ]
    }
   ],
   "source": [
    "a = 5\n",
    "while a > 0:\n",
    "    print(a)\n",
    "    a = a-1\n",
    "print(\"So we came out of loop\")"
   ]
  },
  {
   "cell_type": "markdown",
   "metadata": {},
   "source": [
    "# For loop :"
   ]
  },
  {
   "cell_type": "code",
   "execution_count": 4,
   "metadata": {},
   "outputs": [
    {
     "name": "stdout",
     "output_type": "stream",
     "text": [
      "1\n",
      "2\n",
      "3\n",
      "4\n",
      "5\n",
      "Came out of for  loop\n"
     ]
    }
   ],
   "source": [
    "for x in [1,2,3,4,5]:\n",
    "    print(x)\n",
    "print(\"Came out of for  loop\")"
   ]
  },
  {
   "cell_type": "markdown",
   "metadata": {},
   "source": [
    "# For loop with Range Function:"
   ]
  },
  {
   "cell_type": "code",
   "execution_count": 6,
   "metadata": {},
   "outputs": [
    {
     "name": "stdout",
     "output_type": "stream",
     "text": [
      "0\n",
      "1\n",
      "2\n",
      "3\n",
      "4\n",
      "5\n",
      "Came out of Range for loop\n"
     ]
    }
   ],
   "source": [
    "for x in range(0,6):\n",
    "    print(x)\n",
    "print(\"Came out of Range for loop\")"
   ]
  },
  {
   "cell_type": "markdown",
   "metadata": {},
   "source": [
    "# For loop with Break and Continue:"
   ]
  },
  {
   "cell_type": "code",
   "execution_count": 14,
   "metadata": {},
   "outputs": [
    {
     "name": "stdout",
     "output_type": "stream",
     "text": [
      "4\n",
      "It will print  Number 4\n",
      "------------------------------\n",
      "1\n",
      "2\n",
      "3\n",
      "It will print be 1 2 3\n"
     ]
    }
   ],
   "source": [
    "for x in [1,2,3,4,5]:\n",
    "    if x > 3:\n",
    "        print(x)\n",
    "        break  \n",
    "print(\"It will print  Number 4\")\n",
    "print(\"------------------------------\")\n",
    "\n",
    "for x in [1,2,3,4,5]:   \n",
    "    if x <= 3:\n",
    "        print(x)\n",
    "        continue \n",
    "    else:\n",
    "        break\n",
    "print(\"It will print be 1 2 3\")"
   ]
  },
  {
   "cell_type": "markdown",
   "metadata": {},
   "source": [
    "# Table Logic By For Loop :"
   ]
  },
  {
   "cell_type": "code",
   "execution_count": 15,
   "metadata": {},
   "outputs": [
    {
     "name": "stdout",
     "output_type": "stream",
     "text": [
      "Enter any Number: 2\n",
      "2 x 1 = 2\n",
      "2 x 2 = 4\n",
      "2 x 3 = 6\n",
      "2 x 4 = 8\n",
      "2 x 5 = 10\n",
      "2 x 6 = 12\n",
      "2 x 7 = 14\n",
      "2 x 8 = 16\n",
      "2 x 9 = 18\n",
      "2 x 10 = 20\n"
     ]
    }
   ],
   "source": [
    "n = input(\"Enter any Number: \")\n",
    "a = 0\n",
    "for x in [1,2,3,4,5,6,7,8,9,10]:\n",
    "    n = int(n)\n",
    "    a = n*x\n",
    "    print(n , \"x\", x , \"=\", a)"
   ]
  },
  {
   "cell_type": "markdown",
   "metadata": {},
   "source": [
    "# Table Logic By While Loop :"
   ]
  },
  {
   "cell_type": "code",
   "execution_count": 18,
   "metadata": {},
   "outputs": [
    {
     "name": "stdout",
     "output_type": "stream",
     "text": [
      "Enter any Number: 5\n",
      "5 x 1 = 5\n",
      "5 x 2 = 10\n",
      "5 x 3 = 15\n",
      "5 x 4 = 20\n",
      "5 x 5 = 25\n",
      "5 x 6 = 30\n",
      "5 x 7 = 35\n",
      "5 x 8 = 40\n",
      "5 x 9 = 45\n",
      "5 x 10 = 50\n"
     ]
    }
   ],
   "source": [
    "n = input(\"Enter any Number: \")\n",
    "a = 0\n",
    "x = 1\n",
    "while x <= 10:\n",
    "    n = int(n)\n",
    "    a = n*x    \n",
    "    print(n , \"x\", x , \"=\", a)\n",
    "    x = x+1"
   ]
  },
  {
   "cell_type": "markdown",
   "metadata": {},
   "source": [
    "# List :"
   ]
  },
  {
   "cell_type": "code",
   "execution_count": 6,
   "metadata": {},
   "outputs": [
    {
     "name": "stdout",
     "output_type": "stream",
     "text": [
      "[1, 2, 3, 4, 5, 6, 7, 8, 9]\n",
      "['Muneer', 'M', 'is', 'Muhammad', 'name', 'My', 'Siddique']\n",
      "Muneer\n",
      "Siddique\n",
      "['Muneer', 'M', 'is', 'Muhammad', 'name', 'My']\n",
      "['M', 'is', 'Muhammad', 'name', 'My', 'Siddique']\n",
      "['My', 'name', 'is']\n",
      "Muneer found in list\n"
     ]
    }
   ],
   "source": [
    "a = [1,2,3,4,5,6,7,8,9,10]\n",
    "b = [\"My\",\"name\",\"is\",\"Sheikh\",\"M\",\"Muneer\"]\n",
    "c = b[0:3]\n",
    "l = len(a)\n",
    "sor = sorted(b)\n",
    "rev = b.reverse()\n",
    "pop = a.pop()    # remove last word\n",
    "app = b.append(\"Siddique\")\n",
    "ins = b.insert(4,\"Muhammad\")\n",
    "rem = b.remove(\"Sheikh\")\n",
    "cnt = b.count(\"Muneer\")    # it will coumt number of instance\n",
    "\n",
    "\n",
    "print(a)\n",
    "print(b)\n",
    "print(b[0])\n",
    "print(b[-1])   # only last word\n",
    "print(b[:-1])  # from begin to last\n",
    "print(b[1:])\n",
    "print(c)\n",
    "\n",
    "if \"Muneer\" in b:\n",
    "    print(\"Muneer found in list\")\n",
    "else:\n",
    "    print(\"Muneer not found in list\")"
   ]
  },
  {
   "cell_type": "markdown",
   "metadata": {},
   "source": [
    "# Dynamic List from User:"
   ]
  },
  {
   "cell_type": "code",
   "execution_count": 10,
   "metadata": {},
   "outputs": [
    {
     "name": "stdout",
     "output_type": "stream",
     "text": [
      "How many items you want to Submit :4\n",
      "55\n",
      "The index of a 0 with value of  55\n",
      "33\n",
      "The index of a 1 with value of  33\n",
      "44\n",
      "The index of a 2 with value of  44\n",
      "66\n",
      "The index of a 3 with value of  66\n",
      "The sorted list is : \n",
      "33\n",
      "44\n",
      "55\n",
      "66\n"
     ]
    }
   ],
   "source": [
    "a = []\n",
    "x = 0\n",
    "n = input(\"How many items you want to Submit :\")\n",
    "n = int(n)\n",
    "while x < n:\n",
    "    i = input()\n",
    "    print(\"The index of a\", x , \"with value of \", i)\n",
    "    a.insert(x,i)\n",
    "    x = x+1        \n",
    "a = sorted(a)   \n",
    "print(\"The sorted list is : \")\n",
    "x = 0\n",
    "while x < n:\n",
    "    print(a[x])\n",
    "    x = x+1"
   ]
  },
  {
   "cell_type": "markdown",
   "metadata": {},
   "source": [
    "# Tuples :"
   ]
  },
  {
   "cell_type": "code",
   "execution_count": 12,
   "metadata": {},
   "outputs": [
    {
     "name": "stdout",
     "output_type": "stream",
     "text": [
      "[1, 2, 3]\n",
      "[6, 2, 3]\n",
      "(1, 2, 3)\n",
      "<class 'tuple'>\n",
      "(1, 2, 3, 4)\n",
      "(2, 3)\n"
     ]
    }
   ],
   "source": [
    "# list are mutable.we can change data at any index\n",
    "# Tuples are non mutable. we can not  change data at any index\n",
    "\n",
    "# list exmple here\n",
    "a = [1,2,3]\n",
    "print(a)\n",
    "a[0]= 6\n",
    "print(a)\n",
    "\n",
    "# tuple example here\n",
    "a = (1,2,3)\n",
    "print(a)\n",
    "print(type(a))\n",
    "\n",
    "# new example of tuple\n",
    "a = (1,2)\n",
    "b = (3,4)\n",
    "c = a+b\n",
    "print(c)\n",
    "d = (a[1],b[0])     # output will be 2 3\n",
    "print(d)\n",
    "\n",
    "del a    # to delete a tuple\n"
   ]
  }
 ],
 "metadata": {
  "kernelspec": {
   "display_name": "Python 3",
   "language": "python",
   "name": "python3"
  },
  "language_info": {
   "codemirror_mode": {
    "name": "ipython",
    "version": 3
   },
   "file_extension": ".py",
   "mimetype": "text/x-python",
   "name": "python",
   "nbconvert_exporter": "python",
   "pygments_lexer": "ipython3",
   "version": "3.6.4"
  }
 },
 "nbformat": 4,
 "nbformat_minor": 2
}
